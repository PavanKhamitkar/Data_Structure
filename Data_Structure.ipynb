{
  "nbformat": 4,
  "nbformat_minor": 0,
  "metadata": {
    "colab": {
      "provenance": []
    },
    "kernelspec": {
      "name": "python3",
      "display_name": "Python 3"
    },
    "language_info": {
      "name": "python"
    }
  },
  "cells": [
    {
      "cell_type": "markdown",
      "source": [
        "1.\tWhat are data structures, and why are they important?\n",
        "  - Data structures store and organize data efficiently so programs can run faster and use less memory.\n",
        "2.\tExplain the difference between mutable and immutable data types with examples.\n",
        "  - Mutable = can change (e.g., list, dict); Immutable = can’t change (e.g., string, tuple).\n",
        "3.\tWhat are main differences between lists and tuples in Python?\n",
        "  - Lists are mutable and slower; Tuples are immutable and faster.\n",
        "4.\tDescribe how dictionaries store data?\n",
        "  - They store data as key-value pairs, like a label (key) with its info (value).\n",
        "5.\tWhy might you use a set instead of a list in Python?\n",
        "  - Sets remove duplicates automatically and are faster for checking if an item exists.\n",
        "6.\tWhat is a string in Python, and how is it different from a list?\n",
        "  - A string is a sequence of characters; unlike lists, strings can’t be changed (immutable).\n",
        "7.\tHow do tuples ensure data integrity in Python?\n",
        "  - Tuples can’t be changed, so data stays safe and constant.\n",
        "8.\tWhat is a hash table, and how does it relate to dictionaries in Python?\n",
        "  - A hash table stores data using a unique code (hash); Python dictionaries use this to find values fast.\n",
        "9.\tCan lists contain different data types in Python?\n",
        "  - Yes, a list can mix strings, numbers, and more.\n",
        "10.\tExplain why strings are immutable in Python?\n",
        "  - To save memory and allow sharing safely across the program.\n",
        "11.\tWhat advantages do dictionaries offer over lists for certain tasks?\n",
        "  - Dictionaries find data faster using keys, while lists search by position.\n",
        "12.\tDescribe a scenario where using a tuple would be preferable over a list?\n",
        "  - Use a tuple when you don’t want the data to change, like (latitude, longitude).\n",
        "13.\tHow do sets handle duplicate values in Python?\n",
        "  - They remove duplicate values—sets only keep unique items.\n",
        "14.\tHow does the “in” keyword work differently for lists and dictionaries?\n",
        "  - For lists: checks if a value exists; For dicts: checks if a key exists.\n",
        "15.\tCan you modify the elements of a tuple? Explain why or why not?\n",
        "  - No—tuples are immutable, so you can’t change their contents.\n",
        "16.\tWhat is a nested dictionary, and give an example of its use case?\n",
        "  - A dictionary inside another one. Example: student = {\"name\": \"John\", \"marks\": {\"math\": 90}}\n",
        "17.\tDescribe the time complexity of accessing elements in a dictionary.\n",
        "  - O(1) – very fast, thanks to hashing.\n",
        "18.\t In what situations are lists preferred over dictionaries?\n",
        "  - When order matters or when storing simple sequences.\n",
        "19.\tWhy are dictionaries considered unordered, and how does that affect data retrieval?\n",
        "  - Before Python 3.7, dicts didn’t remember order. Even now, you access data by key, not position.\n",
        "20.\t Explain the difference between a list and a dictionary in terms of data retrieval.\n",
        "  - List: get data by index (number); Dictionary: get data by key (name/label).\n"
      ],
      "metadata": {
        "id": "PlURRC13TlPh"
      }
    },
    {
      "cell_type": "code",
      "source": [
        "# 1. Write a code to create a string with your name and print it.\n",
        "name = \"Pavan Khamitkar\"\n",
        "print(name)"
      ],
      "metadata": {
        "colab": {
          "base_uri": "https://localhost:8080/"
        },
        "id": "WqZrC4QOXwAY",
        "outputId": "0dff8b74-8085-4fc8-cf31-bbc0cb3552ea"
      },
      "execution_count": 29,
      "outputs": [
        {
          "output_type": "stream",
          "name": "stdout",
          "text": [
            "Pavan Khamitkar\n"
          ]
        }
      ]
    },
    {
      "cell_type": "code",
      "source": [
        "# 2. Write a code to find the length of the string \"Hello World\".\n",
        "text = \"Hello World\"\n",
        "print(len(text))"
      ],
      "metadata": {
        "colab": {
          "base_uri": "https://localhost:8080/"
        },
        "id": "OyBxEKF3YpF4",
        "outputId": "113f6164-e040-40e3-876a-c28c65feb52e"
      },
      "execution_count": 30,
      "outputs": [
        {
          "output_type": "stream",
          "name": "stdout",
          "text": [
            "11\n"
          ]
        }
      ]
    },
    {
      "cell_type": "code",
      "source": [
        "# 3. Write a code to slice the first 3 characters from the string \"Python Programming\".\n",
        "s = \"Python Programming\"\n",
        "print(s[:3])"
      ],
      "metadata": {
        "colab": {
          "base_uri": "https://localhost:8080/"
        },
        "id": "XNA3SKzUY3Tl",
        "outputId": "69b83833-972b-45cc-d53b-4236c8bd6bdd"
      },
      "execution_count": 31,
      "outputs": [
        {
          "output_type": "stream",
          "name": "stdout",
          "text": [
            "Pyt\n"
          ]
        }
      ]
    },
    {
      "cell_type": "code",
      "source": [
        "# 4. Write a code to convert the string \"hello\" to uppercase.\n",
        "word = \"hello\"\n",
        "print(word.upper())"
      ],
      "metadata": {
        "colab": {
          "base_uri": "https://localhost:8080/"
        },
        "id": "2Adfq4_QZJnC",
        "outputId": "4dcfa8e7-8f75-4a22-e5f5-88ed29104563"
      },
      "execution_count": 32,
      "outputs": [
        {
          "output_type": "stream",
          "name": "stdout",
          "text": [
            "HELLO\n"
          ]
        }
      ]
    },
    {
      "cell_type": "code",
      "source": [
        "# 5. Write a code to replace the word \"apple\" with \"orange\" in the string \"I like apple\".\n",
        "sentence = \"I like apple\"\n",
        "print(sentence.replace(\"apple\", \"orange\"))"
      ],
      "metadata": {
        "colab": {
          "base_uri": "https://localhost:8080/"
        },
        "id": "QUjy3PnvZUrN",
        "outputId": "aebe06ec-13c5-4fe1-9d83-c86e299d1379"
      },
      "execution_count": 33,
      "outputs": [
        {
          "output_type": "stream",
          "name": "stdout",
          "text": [
            "I like orange\n"
          ]
        }
      ]
    },
    {
      "cell_type": "code",
      "source": [
        "# 6. Write a code to create a list with numbers 1 to 5 and print it.\n",
        "numbers = [1, 2, 3, 4, 5]\n",
        "print(numbers)"
      ],
      "metadata": {
        "colab": {
          "base_uri": "https://localhost:8080/"
        },
        "id": "HBcypBtXZiqb",
        "outputId": "fac943d2-34ca-4f08-d420-a4c156f9cdce"
      },
      "execution_count": 34,
      "outputs": [
        {
          "output_type": "stream",
          "name": "stdout",
          "text": [
            "[1, 2, 3, 4, 5]\n"
          ]
        }
      ]
    },
    {
      "cell_type": "code",
      "source": [
        "# 7. Write a code to append the number 10 to the list [1, 2, 3, 4].\n",
        "nums = [1, 2, 3, 4]\n",
        "nums.append(10)\n",
        "print(nums)"
      ],
      "metadata": {
        "colab": {
          "base_uri": "https://localhost:8080/"
        },
        "id": "C7IcpysMZt7P",
        "outputId": "cfe7d2a0-d5bd-46e7-b256-e19f0b5221ca"
      },
      "execution_count": 35,
      "outputs": [
        {
          "output_type": "stream",
          "name": "stdout",
          "text": [
            "[1, 2, 3, 4, 10]\n"
          ]
        }
      ]
    },
    {
      "cell_type": "code",
      "source": [
        "# 8. Write a code to remove the number 3 from the list [1, 2, 3, 4, 5].\n",
        "lst = [1, 2, 3, 4, 5]\n",
        "lst.remove(3)\n",
        "print(lst)"
      ],
      "metadata": {
        "colab": {
          "base_uri": "https://localhost:8080/"
        },
        "id": "ZO7KqMYIZ-6H",
        "outputId": "b8a6d587-394b-4925-f348-270b7a764ba7"
      },
      "execution_count": 36,
      "outputs": [
        {
          "output_type": "stream",
          "name": "stdout",
          "text": [
            "[1, 2, 4, 5]\n"
          ]
        }
      ]
    },
    {
      "cell_type": "code",
      "source": [
        "# 9. Write a code to access the second element in the list ['a', 'b', 'c', 'd'].\n",
        "letters = ['a', 'b', 'c', 'd']\n",
        "print(letters[1])"
      ],
      "metadata": {
        "colab": {
          "base_uri": "https://localhost:8080/"
        },
        "id": "NS-geYNcaH0y",
        "outputId": "fb6c1be2-c6f3-4e74-822e-1fef67d62ba5"
      },
      "execution_count": 37,
      "outputs": [
        {
          "output_type": "stream",
          "name": "stdout",
          "text": [
            "b\n"
          ]
        }
      ]
    },
    {
      "cell_type": "code",
      "source": [
        "# 10. Write a code to reverse the list [10, 20, 30, 40, 50].\n",
        "data = [10, 20, 30, 40, 50]\n",
        "data.reverse()\n",
        "print(data)"
      ],
      "metadata": {
        "colab": {
          "base_uri": "https://localhost:8080/"
        },
        "id": "CpaYtafzaPxc",
        "outputId": "db2d3144-a169-49b5-c7e6-0d41b44c5096"
      },
      "execution_count": 38,
      "outputs": [
        {
          "output_type": "stream",
          "name": "stdout",
          "text": [
            "[50, 40, 30, 20, 10]\n"
          ]
        }
      ]
    },
    {
      "cell_type": "code",
      "source": [
        "# 11. Write a code to create a tuple with the elements 100, 200, 300 and print it.\n",
        "t = (100, 200, 300)\n",
        "print(t)"
      ],
      "metadata": {
        "colab": {
          "base_uri": "https://localhost:8080/"
        },
        "id": "IyrXwSK9aaJw",
        "outputId": "73598b4f-7838-4a79-d53b-0339a0aab98a"
      },
      "execution_count": 39,
      "outputs": [
        {
          "output_type": "stream",
          "name": "stdout",
          "text": [
            "(100, 200, 300)\n"
          ]
        }
      ]
    },
    {
      "cell_type": "code",
      "source": [
        "# 12. Write a code to access the second-to-last element of the tuple ('red', 'green', 'blue', 'yellow').\n",
        "colors = ('red', 'green', 'blue', 'yellow')\n",
        "print(colors[-2])"
      ],
      "metadata": {
        "colab": {
          "base_uri": "https://localhost:8080/"
        },
        "id": "WaSkXjaCi8Id",
        "outputId": "c7e6a6c6-f9af-4521-db0c-0809929fcbde"
      },
      "execution_count": 40,
      "outputs": [
        {
          "output_type": "stream",
          "name": "stdout",
          "text": [
            "blue\n"
          ]
        }
      ]
    },
    {
      "cell_type": "code",
      "source": [
        "# 13. Write a code to find the minimum number in the tuple (10, 20, 5, 15).\n",
        "nums = (10, 20, 5, 15)\n",
        "print(min(nums))"
      ],
      "metadata": {
        "colab": {
          "base_uri": "https://localhost:8080/"
        },
        "id": "DQiv8r6Ljd7W",
        "outputId": "ba0033f7-00da-4800-ac2a-f0e99d750130"
      },
      "execution_count": 41,
      "outputs": [
        {
          "output_type": "stream",
          "name": "stdout",
          "text": [
            "5\n"
          ]
        }
      ]
    },
    {
      "cell_type": "code",
      "source": [
        "# 14. Write a code to find the index of the element \"cat\" in the tuple ('dog', 'cat', 'rabbit').\n",
        "animals = ('dog', 'cat', 'rabbit')\n",
        "print(animals.index('cat'))"
      ],
      "metadata": {
        "colab": {
          "base_uri": "https://localhost:8080/"
        },
        "id": "OUa1HAvjjtHz",
        "outputId": "52c00244-b5b7-4501-e188-fa424370197b"
      },
      "execution_count": 42,
      "outputs": [
        {
          "output_type": "stream",
          "name": "stdout",
          "text": [
            "1\n"
          ]
        }
      ]
    },
    {
      "cell_type": "code",
      "source": [
        "# 15. Write a code to create a tuple containing three different fruits and check if \"kiwi\" is in it.\n",
        "fruits = ('apple', 'banana', 'kiwi')\n",
        "print(\"kiwi\" in fruits)"
      ],
      "metadata": {
        "colab": {
          "base_uri": "https://localhost:8080/"
        },
        "id": "8VR3H1KMj4_n",
        "outputId": "60859485-2cb9-4de0-9d84-859b9bd00eb0"
      },
      "execution_count": 43,
      "outputs": [
        {
          "output_type": "stream",
          "name": "stdout",
          "text": [
            "True\n"
          ]
        }
      ]
    },
    {
      "cell_type": "code",
      "source": [
        "# 16. Write a code to create a set with the elements 'a', 'b', 'c' and print it.\n",
        "s = {'a', 'b', 'c'}\n",
        "print(s)"
      ],
      "metadata": {
        "colab": {
          "base_uri": "https://localhost:8080/"
        },
        "id": "9F--fnW8kFxh",
        "outputId": "e6d66c6b-ca38-4449-a2ef-9c0d9d2f7070"
      },
      "execution_count": 44,
      "outputs": [
        {
          "output_type": "stream",
          "name": "stdout",
          "text": [
            "{'b', 'a', 'c'}\n"
          ]
        }
      ]
    },
    {
      "cell_type": "code",
      "source": [
        "# 17. Write a code to clear all elements from the set {1, 2, 3, 4, 5}.\n",
        "s = {1, 2, 3, 4, 5}\n",
        "s.clear()\n",
        "print(s)"
      ],
      "metadata": {
        "colab": {
          "base_uri": "https://localhost:8080/"
        },
        "id": "_ATG2fNOkSMN",
        "outputId": "eaf336af-a7a1-4584-90db-270d17de1dc4"
      },
      "execution_count": 45,
      "outputs": [
        {
          "output_type": "stream",
          "name": "stdout",
          "text": [
            "set()\n"
          ]
        }
      ]
    },
    {
      "cell_type": "code",
      "source": [
        "# 18. Write a code to remove the element 4 from the set {1, 2, 3, 4}.\n",
        "s = {1, 2, 3, 4}\n",
        "s.remove(4)\n",
        "print(s)"
      ],
      "metadata": {
        "colab": {
          "base_uri": "https://localhost:8080/"
        },
        "id": "Mx81c1DXkcFV",
        "outputId": "cd1fe380-e7db-42d3-f0d3-d553307210ab"
      },
      "execution_count": 46,
      "outputs": [
        {
          "output_type": "stream",
          "name": "stdout",
          "text": [
            "{1, 2, 3}\n"
          ]
        }
      ]
    },
    {
      "cell_type": "code",
      "source": [
        "# 19. Write a code to find the union of two sets {1, 2, 3} and {3, 4, 5}.\n",
        "a = {1, 2, 3}\n",
        "b = {3, 4, 5}\n",
        "print(a.union(b))"
      ],
      "metadata": {
        "colab": {
          "base_uri": "https://localhost:8080/"
        },
        "id": "0uzR3ThrklRL",
        "outputId": "aa3f2abb-1418-4f01-aedc-8165e68e00fc"
      },
      "execution_count": 47,
      "outputs": [
        {
          "output_type": "stream",
          "name": "stdout",
          "text": [
            "{1, 2, 3, 4, 5}\n"
          ]
        }
      ]
    },
    {
      "cell_type": "code",
      "source": [
        "# 20. Write a code to find the intersection of two sets {1, 2, 3} and {2, 3, 4}.\n",
        "x = {1, 2, 3}\n",
        "y = {2, 3, 4}\n",
        "print(x.intersection(y))"
      ],
      "metadata": {
        "colab": {
          "base_uri": "https://localhost:8080/"
        },
        "id": "Uq3fZoijkvzV",
        "outputId": "f5c57595-c083-4bad-c3af-953658051506"
      },
      "execution_count": 48,
      "outputs": [
        {
          "output_type": "stream",
          "name": "stdout",
          "text": [
            "{2, 3}\n"
          ]
        }
      ]
    },
    {
      "cell_type": "code",
      "source": [
        "# 21. Write a code to create a dictionary with the keys \"name\", \"age\", and \"city\", and print it.\n",
        "person = {\"name\": \"John\", \"age\": 25, \"city\": \"New York\"}\n",
        "print(person)"
      ],
      "metadata": {
        "colab": {
          "base_uri": "https://localhost:8080/"
        },
        "id": "2FdQzE31k2h7",
        "outputId": "b201e37f-a91c-4a00-9942-ee1546f2c4a0"
      },
      "execution_count": 49,
      "outputs": [
        {
          "output_type": "stream",
          "name": "stdout",
          "text": [
            "{'name': 'John', 'age': 25, 'city': 'New York'}\n"
          ]
        }
      ]
    },
    {
      "cell_type": "code",
      "source": [
        "# 22. Write a code to add a new key-value pair \"country\": \"USA\" to the dictionary {'name': 'John', 'age': 25}.\n",
        "person = {'name': 'John', 'age': 25}\n",
        "person[\"country\"] = \"USA\"\n",
        "print(person)"
      ],
      "metadata": {
        "colab": {
          "base_uri": "https://localhost:8080/"
        },
        "id": "dx0HEp_nljef",
        "outputId": "ac1d8556-0cd4-41d1-c151-17b8a63c753b"
      },
      "execution_count": 50,
      "outputs": [
        {
          "output_type": "stream",
          "name": "stdout",
          "text": [
            "{'name': 'John', 'age': 25, 'country': 'USA'}\n"
          ]
        }
      ]
    },
    {
      "cell_type": "code",
      "source": [
        "# 23. Write a code to access the value associated with the key \"name\" in the dictionary {'name': 'Alice', 'age': 30}.\n",
        "data = {'name': 'Alice', 'age': 30}\n",
        "print(data[\"name\"])"
      ],
      "metadata": {
        "colab": {
          "base_uri": "https://localhost:8080/"
        },
        "id": "xUoh9kyVlu_n",
        "outputId": "b8c0a2a2-30fb-4ed1-b319-c151daac7be7"
      },
      "execution_count": 51,
      "outputs": [
        {
          "output_type": "stream",
          "name": "stdout",
          "text": [
            "Alice\n"
          ]
        }
      ]
    },
    {
      "cell_type": "code",
      "source": [
        "# 24. Write a code to remove the key \"age\" from the dictionary {'name': 'Bob', 'age': 22, 'city': 'New York'}.\n",
        "info = {'name': 'Bob', 'age': 22, 'city': 'New York'}\n",
        "del info[\"age\"]\n",
        "print(info)"
      ],
      "metadata": {
        "colab": {
          "base_uri": "https://localhost:8080/"
        },
        "id": "vwISteLll7nF",
        "outputId": "cbd8c567-293c-4024-90d0-b2174b0fc023"
      },
      "execution_count": 52,
      "outputs": [
        {
          "output_type": "stream",
          "name": "stdout",
          "text": [
            "{'name': 'Bob', 'city': 'New York'}\n"
          ]
        }
      ]
    },
    {
      "cell_type": "code",
      "source": [
        "# 25. Write a code to check if the key \"city\" exists in the dictionary {'name': 'Alice', 'city': 'Paris'}.\n",
        "data = {'name': 'Alice', 'city': 'Paris'}\n",
        "print(\"city\" in data)"
      ],
      "metadata": {
        "colab": {
          "base_uri": "https://localhost:8080/"
        },
        "id": "H19xILU5mH3h",
        "outputId": "18020c8f-1aa6-40a1-a0e7-d819c652cfae"
      },
      "execution_count": 53,
      "outputs": [
        {
          "output_type": "stream",
          "name": "stdout",
          "text": [
            "True\n"
          ]
        }
      ]
    },
    {
      "cell_type": "code",
      "source": [
        "# 26. Write a code to create a list, a tuple, and a dictionary, and print them all.\n",
        "lst = [1, 2, 3]\n",
        "tup = (4, 5, 6)\n",
        "dct = {\"name\": \"Om\", \"age\": 25}\n",
        "print(lst)\n",
        "print(tup)\n",
        "print(dct)"
      ],
      "metadata": {
        "colab": {
          "base_uri": "https://localhost:8080/"
        },
        "id": "qnAc-0NBmPQ8",
        "outputId": "6616a427-285c-49e0-ef3f-3850eef45ce5"
      },
      "execution_count": 54,
      "outputs": [
        {
          "output_type": "stream",
          "name": "stdout",
          "text": [
            "[1, 2, 3]\n",
            "(4, 5, 6)\n",
            "{'name': 'Om', 'age': 25}\n"
          ]
        }
      ]
    },
    {
      "cell_type": "code",
      "source": [
        "# 27. Write a code to create a list of 5 random numbers between 1 and 100, sort it in ascending order, and print the result.(replaced)\n",
        "import random\n",
        "nums = random.sample(range(1, 101), 5)\n",
        "nums.sort()\n",
        "print(nums)"
      ],
      "metadata": {
        "colab": {
          "base_uri": "https://localhost:8080/"
        },
        "id": "0eO_lPAkmd9C",
        "outputId": "4b7f9aac-1c5c-4bca-b70c-f3fcd086cfe4"
      },
      "execution_count": 55,
      "outputs": [
        {
          "output_type": "stream",
          "name": "stdout",
          "text": [
            "[40, 48, 61, 73, 88]\n"
          ]
        }
      ]
    },
    {
      "cell_type": "code",
      "source": [
        "# 28. Write a code to create a list with strings and print the element at the third index.\n",
        "words = [\"apple\", \"banana\", \"cherry\", \"date\", \"elderberry\"]\n",
        "print(words[3])"
      ],
      "metadata": {
        "colab": {
          "base_uri": "https://localhost:8080/"
        },
        "id": "CcLcoFzZnJsY",
        "outputId": "1dd32c44-8b36-49e3-a7f2-923bb5b838e7"
      },
      "execution_count": 56,
      "outputs": [
        {
          "output_type": "stream",
          "name": "stdout",
          "text": [
            "date\n"
          ]
        }
      ]
    },
    {
      "cell_type": "code",
      "source": [
        "# 29. Write a code to combine two dictionaries into one and print the result.\n",
        "a = {\"x\": 1, \"y\": 2}\n",
        "b = {\"z\": 3}\n",
        "combined = {**a, **b}\n",
        "print(combined)"
      ],
      "metadata": {
        "colab": {
          "base_uri": "https://localhost:8080/"
        },
        "id": "0zZDfAZ1nnMf",
        "outputId": "d8332cd4-0760-4518-f0e0-3ffd3d37c48b"
      },
      "execution_count": 57,
      "outputs": [
        {
          "output_type": "stream",
          "name": "stdout",
          "text": [
            "{'x': 1, 'y': 2, 'z': 3}\n"
          ]
        }
      ]
    },
    {
      "cell_type": "code",
      "source": [
        "# 30. Write a code to convert a list of strings into a set.\n",
        "items = [\"pen\", \"pencil\", \"eraser\", \"pen\"]\n",
        "unique_items = set(items)\n",
        "print(unique_items)"
      ],
      "metadata": {
        "colab": {
          "base_uri": "https://localhost:8080/"
        },
        "id": "pffiM765n3Y6",
        "outputId": "3b5f7401-29a5-4654-a6b5-a3b72ac00093"
      },
      "execution_count": 58,
      "outputs": [
        {
          "output_type": "stream",
          "name": "stdout",
          "text": [
            "{'eraser', 'pen', 'pencil'}\n"
          ]
        }
      ]
    },
    {
      "cell_type": "code",
      "source": [],
      "metadata": {
        "id": "DGx-LOYNoKwd"
      },
      "execution_count": null,
      "outputs": []
    }
  ]
}